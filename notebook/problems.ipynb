{
    "cells": [
        {
            "cell_type": "markdown",
            "id": "ac622319",
            "metadata": {},
            "source": [
                "# Descriptive statistics problems"
            ]
        },
        {
            "cell_type": "markdown",
            "id": "5e0ab0d5",
            "metadata": {},
            "source": [
                "### Exercise 1\n",
                "\n",
                "We will use NumPy to obtain information to describe statistically.\n",
                "\n",
                "- Generate an array of 100 elements following a normal distribution.\n",
                "- Generate an array of 100 elements following a chi-square distribution with 3 degrees of freedom.\n",
                "- Calculate the main metrics and statistical measures that best describe the two vectors.\n",
                "# TODO"
            ]
        },
        {
            "cell_type": "code",
            "execution_count": 18,
            "id": "debe7711",
            "metadata": {},
            "outputs": [
                {
                    "name": "stdout",
                    "output_type": "stream",
                    "text": [
                        "[ 0.16972928  0.08939392  0.48804408  1.5801341  -0.11985092  0.11372946\n",
                        " -0.59451605  0.58832852 -0.31847851 -0.31905702  0.54348315  1.03492093\n",
                        " -2.20810655  0.36077842 -0.27020332  0.94761694 -0.2501226   1.30105243\n",
                        " -0.67641302 -2.23032991  1.05159304 -0.84354496 -1.58025194  0.01605342\n",
                        " -0.23917867  0.82310498  0.89241082  0.09562045 -0.88481594  0.28694126\n",
                        "  0.16519438  0.56893667 -0.87480671 -0.40037287  0.50937812  1.24732706\n",
                        "  0.96592201  0.08205487 -0.48739502  0.40382056 -1.09139044 -0.81700144\n",
                        "  1.50977131  0.40203448 -0.34752673  0.82913868  1.28697496 -0.44463756\n",
                        " -0.42740794 -0.55264577  0.96385032  0.97355745  1.38590332  1.00860295\n",
                        " -1.63221808  0.28096432 -1.0583854  -0.51291437  0.1705942   0.8355654\n",
                        " -0.89084334 -2.32471966  0.18053084  2.64357158 -0.20284622  0.04691543\n",
                        "  1.78216362  0.59027462  0.21686104  0.44211667  0.25024393 -1.13975443\n",
                        " -1.34144516  1.88682811  0.18388335  0.10009544 -0.09022766  0.78107327\n",
                        "  2.5386911   0.52395267 -0.58808683 -0.13340086  1.07099647 -0.5828006\n",
                        "  0.85224649 -2.32073737 -0.22987957  0.62814001  1.27012555 -0.81847422\n",
                        " -1.50276502 -0.26073516 -1.12541901 -0.14903667 -0.00665345 -1.31914505\n",
                        "  0.80443911 -0.15721389  1.08045987 -1.84490524] [ 0.7535562   3.63689007  1.9956382   1.1543542   2.67091499  2.09393079\n",
                        "  2.68453052 13.45203152  0.6657755   6.80206915  0.601992    2.80162213\n",
                        "  2.02430463  3.66920719  1.63561922  2.18620752  2.1458518   2.39870658\n",
                        "  2.55321511  2.06293034  1.65480213  1.87237083  2.87783337  2.92304524\n",
                        "  1.18204816  0.83768926  0.26569434  8.59844651  0.547704    0.97684484\n",
                        "  4.3782911   0.4184612   1.34303016  5.12528046  2.26709278 10.77244939\n",
                        "  4.1076969   0.51001255  2.55797023  0.28661531  3.740057    1.45951004\n",
                        "  3.66679084  7.87669291  7.63593711  2.00818811  4.54549025  1.65939067\n",
                        "  2.78908889  0.34674825  0.99860368  3.80583648  0.22539669  2.54536658\n",
                        "  2.74186004  3.9073001   0.34968706  0.25578274  5.18133162  2.74380568\n",
                        "  1.68214559  0.32658376  1.57087926  0.68403203  4.97227371  0.48617225\n",
                        "  1.8779182   4.57962562  3.94119643  1.48398295  3.98510965  4.58567713\n",
                        "  2.63458522  3.43728713  1.90227048  5.72097584  2.16389088  0.42388733\n",
                        "  3.591671    0.72812847  6.32582558  3.34287948  0.15441468  4.7547433\n",
                        "  2.99971249  4.23864478  2.436383    6.0986191   1.14644629  4.93781478\n",
                        "  3.07914591  0.25963012  0.22311893  1.74276648  0.99083621  0.15300745\n",
                        "  0.57622042  1.99332791  0.96566951 11.72448141]\n"
                    ]
                }
            ],
            "source": [
                "import numpy as np\n",
                "\n",
                "array_1 = np.random.normal(size= 100)\n",
                "array_2 = np.random.chisquare(3,100)\n",
                "\n",
                "print(array_1, array_2)\n"
            ]
        },
        {
            "cell_type": "code",
            "execution_count": 20,
            "id": "88858568",
            "metadata": {},
            "outputs": [
                {
                    "data": {
                        "image/png": "[encoded data removed]",
                        "text/plain": [
                            "<Figure size 1200x600 with 1 Axes>"
                        ]
                    },
                    "metadata": {},
                    "output_type": "display_data"
                }
            ],
            "source": [
                "hist_1, bins_1 = np.histogram(array_1, bins=20)\n",
                "\n",
                "# Crear los centros de las barras para la gráfica\n",
                "centers_1 = (bins_1[:-1] + bins_1[1:]) / 2\n",
                "\n",
                "# Crear una figura\n",
                "plt.figure(figsize=(12, 6))\n",
                "\n",
                "# Graficar el histograma para array_1\n",
                "plt.bar(centers_1 - 0.2, hist_1, width=0.4, label='Distribución Normal', color='blue', edgecolor='k')\n",
                "\n",
                "\n",
                "# Añadir título y etiquetas\n",
                "plt.title('Histogramas de Distribuciones')\n",
                "plt.xlabel('Valor')\n",
                "plt.ylabel('Frecuencia')\n",
                "\n",
                "# Mostrar leyenda\n",
                "plt.legend()\n",
                "\n",
                "# Mostrar la gráfica\n",
                "plt.show()"
            ]
        },
        {
            "cell_type": "code",
            "execution_count": 21,
            "id": "7a3a2c5a",
            "metadata": {},
            "outputs": [],
            "source": [
                "#- Calculate the main metrics and statistical measures that best describe the two vectors.\n",
                "\n",
                "import statistics as stats\n",
                "\n",
                "\n",
                "\n",
                "\n",
                "\n",
                "\n"
            ]
        },
        {
            "cell_type": "code",
            "execution_count": null,
            "id": "46c70c3d",
            "metadata": {},
            "outputs": [],
            "source": [
                "### Exercise 2\n",
                "\n",
                "Write a Python program to calculate the standard deviation of the following data:\n",
                "\n",
                "```py\n",
                "data = [4, 2, 5, 8, 6]\n",
                "```"
            ]
        },
        {
            "cell_type": "code",
            "execution_count": 2,
            "id": "d590308e",
            "metadata": {},
            "outputs": [],
            "source": [
                "# TODO"
            ]
        }
    ],
    "metadata": {
        "interpreter": {
            "hash": "9248718ffe6ce6938b217e69dbcc175ea21f4c6b28a317e96c05334edae734bb"
        },
        "kernelspec": {
            "display_name": "Python 3.9.12 ('ML-BOOTCAMP')",
            "language": "python",
            "name": "python3"
        },
        "language_info": {
            "codemirror_mode": {
                "name": "ipython",
                "version": 3
            },
            "file_extension": ".py",
            "mimetype": "text/x-python",
            "name": "python",
            "nbconvert_exporter": "python",
            "pygments_lexer": "ipython3",
            "version": "3.11.4"
        }
    },
    "nbformat": 4,
    "nbformat_minor": 5
}
